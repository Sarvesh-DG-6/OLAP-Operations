{
  "cells": [
    {
      "cell_type": "code",
      "execution_count": null,
      "metadata": {
        "id": "wQ0ImPjiy2ra"
      },
      "outputs": [],
      "source": [
        "import pandas as pd"
      ]
    },
    {
      "cell_type": "code",
      "execution_count": null,
      "metadata": {
        "id": "IRqHr0tC2zG8"
      },
      "outputs": [],
      "source": [
        "swiggy_df = pd.read_csv('/content/swiggy.csv')\n"
      ]
    },
    {
      "cell_type": "code",
      "execution_count": null,
      "metadata": {
        "id": "o1hRLhH620Ll"
      },
      "outputs": [],
      "source": [
        "roll_up_swiggy = swiggy_df.groupby(['ID', 'Area','City','Restaurant','Price','Avg ratings','Food type','Address','Delivery time']).mean().reset_index()\n"
      ]
    },
    {
      "cell_type": "code",
      "execution_count": null,
      "metadata": {
        "colab": {
          "base_uri": "https://localhost:8080/"
        },
        "id": "06gnTEaI4rI5",
        "outputId": "c7e45a43-51e0-428f-aa5f-f61f3a8d4aae"
      },
      "outputs": [
        {
          "name": "stdout",
          "output_type": "stream",
          "text": [
            "Roll-up operation result:\n",
            "           ID            Area       City          Restaurant  Price  \\\n",
            "0        211     Koramangala  Bangalore         Tandoor Hut  300.0   \n",
            "1        221     Koramangala  Bangalore       Tunday Kababi  300.0   \n",
            "2        234     Koramangala  Bangalore         Uday Sweets  100.0   \n",
            "3        246       Jogupalya  Bangalore             Kim Lee  650.0   \n",
            "4        248     Indiranagar  Bangalore   New Punjabi Hotel  250.0   \n",
            "...      ...             ...        ...                 ...    ...   \n",
            "8675  466460  Marol Sakinaka     Mumbai         Aksha Dhaba  300.0   \n",
            "8676  466488     Navrangpura  Ahmedabad        Sassy Street  250.0   \n",
            "8677  466669    Andheri East     Mumbai          Filo Bakes  400.0   \n",
            "8678  466772  Marol Sakinaka     Mumbai           Bench Bar  600.0   \n",
            "8679  466928           Kurla     Mumbai  Shane Ahmedi Hotel  300.0   \n",
            "\n",
            "      Avg ratings                                    Food type  \\\n",
            "0             4.4    Biryani,Chinese,North Indian,South Indian   \n",
            "1             4.1                             Mughlai,Lucknowi   \n",
            "2             3.9                                    Fast Food   \n",
            "3             4.4                                      Chinese   \n",
            "4             3.9         North Indian,Punjabi,Tandoor,Chinese   \n",
            "...           ...                                          ...   \n",
            "8675          2.9  Mughlai  Arabian  Tandoor  Chinese  Seafood   \n",
            "8676          2.9                         Chaat,Snacks,Chinese   \n",
            "8677          2.9                             Bakery  Desserts   \n",
            "8678          2.9                         North Indian  Salads   \n",
            "8679          2.9                Indian  Chinese  North Indian   \n",
            "\n",
            "             Address  Delivery time  Total ratings  \n",
            "0          5Th Block             59          100.0  \n",
            "1          5Th Block             56          100.0  \n",
            "2          5Th Block             49           50.0  \n",
            "3        Double Road             50          100.0  \n",
            "4       80 Feet Road             57          500.0  \n",
            "...              ...            ...            ...  \n",
            "8675  Marol Sakinaka             43           80.0  \n",
            "8676     Navrangpura             44           80.0  \n",
            "8677    Andheri East             56           80.0  \n",
            "8678  Marol Sakinaka             46           80.0  \n",
            "8679           Kurla             39           80.0  \n",
            "\n",
            "[8680 rows x 10 columns]\n"
          ]
        }
      ],
      "source": [
        "print(\"Roll-up operation result:\\n\", roll_up_swiggy)\n"
      ]
    },
    {
      "cell_type": "code",
      "execution_count": null,
      "metadata": {
        "id": "eETycytU5ZY2"
      },
      "outputs": [],
      "source": [
        "drill_down_swiggy = swiggy_df.groupby(['ID', 'Area','City','Restaurant','Price','Avg ratings','Food type','Address','Delivery time']).mean().reset_index()\n"
      ]
    },
    {
      "cell_type": "code",
      "execution_count": null,
      "metadata": {
        "colab": {
          "base_uri": "https://localhost:8080/"
        },
        "id": "K_zbxt-y5sU-",
        "outputId": "5b10bf29-cb76-4be2-e60a-ccffda90bfc5"
      },
      "outputs": [
        {
          "name": "stdout",
          "output_type": "stream",
          "text": [
            "\n",
            "Drill-down operation result:\n",
            "           ID            Area       City          Restaurant  Price  \\\n",
            "0        211     Koramangala  Bangalore         Tandoor Hut  300.0   \n",
            "1        221     Koramangala  Bangalore       Tunday Kababi  300.0   \n",
            "2        234     Koramangala  Bangalore         Uday Sweets  100.0   \n",
            "3        246       Jogupalya  Bangalore             Kim Lee  650.0   \n",
            "4        248     Indiranagar  Bangalore   New Punjabi Hotel  250.0   \n",
            "...      ...             ...        ...                 ...    ...   \n",
            "8675  466460  Marol Sakinaka     Mumbai         Aksha Dhaba  300.0   \n",
            "8676  466488     Navrangpura  Ahmedabad        Sassy Street  250.0   \n",
            "8677  466669    Andheri East     Mumbai          Filo Bakes  400.0   \n",
            "8678  466772  Marol Sakinaka     Mumbai           Bench Bar  600.0   \n",
            "8679  466928           Kurla     Mumbai  Shane Ahmedi Hotel  300.0   \n",
            "\n",
            "      Avg ratings                                    Food type  \\\n",
            "0             4.4    Biryani,Chinese,North Indian,South Indian   \n",
            "1             4.1                             Mughlai,Lucknowi   \n",
            "2             3.9                                    Fast Food   \n",
            "3             4.4                                      Chinese   \n",
            "4             3.9         North Indian,Punjabi,Tandoor,Chinese   \n",
            "...           ...                                          ...   \n",
            "8675          2.9  Mughlai  Arabian  Tandoor  Chinese  Seafood   \n",
            "8676          2.9                         Chaat,Snacks,Chinese   \n",
            "8677          2.9                             Bakery  Desserts   \n",
            "8678          2.9                         North Indian  Salads   \n",
            "8679          2.9                Indian  Chinese  North Indian   \n",
            "\n",
            "             Address  Delivery time  Total ratings  \n",
            "0          5Th Block             59          100.0  \n",
            "1          5Th Block             56          100.0  \n",
            "2          5Th Block             49           50.0  \n",
            "3        Double Road             50          100.0  \n",
            "4       80 Feet Road             57          500.0  \n",
            "...              ...            ...            ...  \n",
            "8675  Marol Sakinaka             43           80.0  \n",
            "8676     Navrangpura             44           80.0  \n",
            "8677    Andheri East             56           80.0  \n",
            "8678  Marol Sakinaka             46           80.0  \n",
            "8679           Kurla             39           80.0  \n",
            "\n",
            "[8680 rows x 10 columns]\n"
          ]
        }
      ],
      "source": [
        "print(\"\\nDrill-down operation result:\\n\", drill_down_swiggy)\n"
      ]
    },
    {
      "cell_type": "code",
      "execution_count": null,
      "metadata": {
        "id": "NibV7kth5xbF"
      },
      "outputs": [],
      "source": [
        "slice_op_swiggy = swiggy_df\n"
      ]
    },
    {
      "cell_type": "code",
      "execution_count": null,
      "metadata": {
        "colab": {
          "base_uri": "https://localhost:8080/"
        },
        "id": "2du98DU16LB2",
        "outputId": "9c4bbc38-8ef9-4ad1-a097-396eafd7440f"
      },
      "outputs": [
        {
          "name": "stdout",
          "output_type": "stream",
          "text": [
            "\n",
            "Drill-down operation result:\n",
            "           ID            Area       City          Restaurant  Price  \\\n",
            "0        211     Koramangala  Bangalore         Tandoor Hut  300.0   \n",
            "1        221     Koramangala  Bangalore       Tunday Kababi  300.0   \n",
            "2        234     Koramangala  Bangalore         Uday Sweets  100.0   \n",
            "3        246       Jogupalya  Bangalore             Kim Lee  650.0   \n",
            "4        248     Indiranagar  Bangalore   New Punjabi Hotel  250.0   \n",
            "...      ...             ...        ...                 ...    ...   \n",
            "8675  466460  Marol Sakinaka     Mumbai         Aksha Dhaba  300.0   \n",
            "8676  466488     Navrangpura  Ahmedabad        Sassy Street  250.0   \n",
            "8677  466669    Andheri East     Mumbai          Filo Bakes  400.0   \n",
            "8678  466772  Marol Sakinaka     Mumbai           Bench Bar  600.0   \n",
            "8679  466928           Kurla     Mumbai  Shane Ahmedi Hotel  300.0   \n",
            "\n",
            "      Avg ratings                                    Food type  \\\n",
            "0             4.4    Biryani,Chinese,North Indian,South Indian   \n",
            "1             4.1                             Mughlai,Lucknowi   \n",
            "2             3.9                                    Fast Food   \n",
            "3             4.4                                      Chinese   \n",
            "4             3.9         North Indian,Punjabi,Tandoor,Chinese   \n",
            "...           ...                                          ...   \n",
            "8675          2.9  Mughlai  Arabian  Tandoor  Chinese  Seafood   \n",
            "8676          2.9                         Chaat,Snacks,Chinese   \n",
            "8677          2.9                             Bakery  Desserts   \n",
            "8678          2.9                         North Indian  Salads   \n",
            "8679          2.9                Indian  Chinese  North Indian   \n",
            "\n",
            "             Address  Delivery time  Total ratings  \n",
            "0          5Th Block             59          100.0  \n",
            "1          5Th Block             56          100.0  \n",
            "2          5Th Block             49           50.0  \n",
            "3        Double Road             50          100.0  \n",
            "4       80 Feet Road             57          500.0  \n",
            "...              ...            ...            ...  \n",
            "8675  Marol Sakinaka             43           80.0  \n",
            "8676     Navrangpura             44           80.0  \n",
            "8677    Andheri East             56           80.0  \n",
            "8678  Marol Sakinaka             46           80.0  \n",
            "8679           Kurla             39           80.0  \n",
            "\n",
            "[8680 rows x 10 columns]\n"
          ]
        }
      ],
      "source": [
        "print(\"\\nDrill-down operation result:\\n\", drill_down_swiggy)\n"
      ]
    },
    {
      "cell_type": "code",
      "execution_count": null,
      "metadata": {
        "colab": {
          "base_uri": "https://localhost:8080/"
        },
        "id": "KDc0EpaxEtCA",
        "outputId": "420d14d6-522e-4ce6-d36d-7be4b06ee32e"
      },
      "outputs": [
        {
          "name": "stdout",
          "output_type": "stream",
          "text": [
            "\n",
            "Slice operation result:\n",
            "           ID                    Area       City                Restaurant  \\\n",
            "0        211             Koramangala  Bangalore               Tandoor Hut   \n",
            "1        221             Koramangala  Bangalore             Tunday Kababi   \n",
            "2        246               Jogupalya  Bangalore                   Kim Lee   \n",
            "3        248             Indiranagar  Bangalore         New Punjabi Hotel   \n",
            "4        249             Indiranagar  Bangalore                       Nh8   \n",
            "...      ...                     ...        ...                       ...   \n",
            "8675  464626  Panjarapole Cross Road  Ahmedabad                Malt Pizza   \n",
            "8676  465835                  Rohini      Delhi  Jay Mata Ji Home Kitchen   \n",
            "8677  465872                  Rohini      Delhi      Chinese Kitchen King   \n",
            "8678  465990                  Rohini      Delhi    Shree Ram Paratha Wala   \n",
            "8679  466488             Navrangpura  Ahmedabad              Sassy Street   \n",
            "\n",
            "      Price  Avg ratings  Total ratings  \\\n",
            "0     300.0          4.4            100   \n",
            "1     300.0          4.1            100   \n",
            "2     650.0          4.4            100   \n",
            "3     250.0          3.9            500   \n",
            "4     350.0          4.0             50   \n",
            "...     ...          ...            ...   \n",
            "8675  500.0          2.9             80   \n",
            "8676  200.0          2.9             80   \n",
            "8677  150.0          2.9             80   \n",
            "8678  150.0          2.9             80   \n",
            "8679  250.0          2.9             80   \n",
            "\n",
            "                                              Food type       Address  \\\n",
            "0             Biryani,Chinese,North Indian,South Indian     5Th Block   \n",
            "1                                      Mughlai,Lucknowi     5Th Block   \n",
            "2                                               Chinese   Double Road   \n",
            "3                  North Indian,Punjabi,Tandoor,Chinese  80 Feet Road   \n",
            "4     Rajasthani,Gujarati,North Indian,Snacks,Desser...  80 Feet Road   \n",
            "...                                                 ...           ...   \n",
            "8675                                             Pizzas   Navrangpura   \n",
            "8676                                       South Indian        Rohini   \n",
            "8677                             Chinese,Snacks,Tandoor        Rohini   \n",
            "8678                         North Indian,Indian,Snacks        Rohini   \n",
            "8679                               Chaat,Snacks,Chinese   Navrangpura   \n",
            "\n",
            "      Delivery time  \n",
            "0                59  \n",
            "1                56  \n",
            "2                50  \n",
            "3                57  \n",
            "4                63  \n",
            "...             ...  \n",
            "8675             40  \n",
            "8676             28  \n",
            "8677             58  \n",
            "8678             28  \n",
            "8679             44  \n",
            "\n",
            "[8680 rows x 10 columns]\n"
          ]
        }
      ],
      "source": [
        "print(\"\\nSlice operation result:\\n\", slice_op_swiggy)\n"
      ]
    },
    {
      "cell_type": "code",
      "execution_count": null,
      "metadata": {
        "id": "pMMlrQ-WFBKX"
      },
      "outputs": [],
      "source": []
    }
  ],
  "metadata": {
    "colab": {
      "provenance": []
    },
    "kernelspec": {
      "display_name": "Python 3",
      "name": "python3"
    },
    "language_info": {
      "name": "python"
    }
  },
  "nbformat": 4,
  "nbformat_minor": 0
}
